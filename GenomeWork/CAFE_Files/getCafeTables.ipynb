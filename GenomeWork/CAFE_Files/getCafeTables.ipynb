{
 "metadata": {
  "language_info": {
   "codemirror_mode": {
    "name": "ipython",
    "version": 3
   },
   "file_extension": ".py",
   "mimetype": "text/x-python",
   "name": "python",
   "nbconvert_exporter": "python",
   "pygments_lexer": "ipython3",
   "version": "3.8.8"
  },
  "orig_nbformat": 4,
  "kernelspec": {
   "name": "python3",
   "display_name": "Python 3.8.8 64-bit (conda)"
  },
  "interpreter": {
   "hash": "136006ba1d41353c996db2cd81b17305e533dbab2ead42b3a982c626a762e291"
  }
 },
 "nbformat": 4,
 "nbformat_minor": 2,
 "cells": [
  {
   "source": [
    "Tasks: \n",
    "- [x] Read in Significant families tables\n",
    "- [x] Merge with annotation families \n",
    "- [x] write out table \n"
   ],
   "cell_type": "markdown",
   "metadata": {}
  },
  {
   "cell_type": "code",
   "execution_count": 1,
   "metadata": {},
   "outputs": [],
   "source": [
    "import pandas as pd \n",
    "# read file\n",
    "basedir = '.\\\\'\n",
    "dirnames = ['Cafe_twoPlus_3_levels_Aug2021\\\\', 'Cafe_twoPlus_3_levels_Aug2021_background\\\\', 'Cafe_twoPlus_3_levels_Aug2021_canonical\\\\', 'Cafe_twoPlus_3_levels_Aug2021_noncanonical\\\\'] # directories to get files from \n",
    "\n",
    "names = ['all3', 'backg3', 'canon3', 'noncan3']\n",
    "\n",
    "# Setup for outputs\n",
    "cwd = os.getcwd()\n",
    "path = cwd + '\\outputTables\\\\' \n"
   ]
  },
  {
   "cell_type": "code",
   "execution_count": 2,
   "metadata": {},
   "outputs": [],
   "source": [
    "def readFile(baseDir, dirname, filename): # github copilot version\n",
    "    \"\"\" Read in csv file from the basedir and the specific dir names into a pandas dataframe and convert all counts to integers. Return the dataframe\"\"\" \n",
    "    filepath = os.path.join(baseDir, dirname, filename) \n",
    "    return pd.read_csv(filepath, header=0, sep='\\t', index_col=0, converters={'count': lambda x: int(x)})\n"
   ]
  },
  {
   "cell_type": "code",
   "execution_count": 3,
   "metadata": {},
   "outputs": [
    {
     "output_type": "stream",
     "name": "stdout",
     "text": [
      "            pvalue Significant at 0.05\n#FamilyID                             \nORTHOMCL14     0.0                   y\nORTHOMCL30     0.0                   y\nORTHOMCL48     0.0                   y\nORTHOMCL53     0.0                   y\nORTHOMCL69     0.0                   y\n"
     ]
    }
   ],
   "source": [
    "\"\"\" Read in all files in the directories found in dirnames as dataframes, using readFile function \"\"\" \n",
    "\n",
    "famAllSig = readFile(basedir, dirnames[0], 'Significant_families.txt')\n",
    "famBackgSig = readFile(basedir, dirnames[1], 'Significant_families.txt')\n",
    "famCanonSig = readFile(basedir, dirnames[2], 'Significant_families.txt')\n",
    "famNoncanonSig = readFile(basedir, dirnames[3], 'Significant_families.txt')\n",
    "\n",
    "allChange = readFile(basedir, dirnames[0], 'Base_change.tab')\n",
    "backgChange = readFile(basedir, dirnames[1], 'Base_change.tab')\n",
    "canChange = readFile(basedir, dirnames[2], 'Base_change.tab')\n",
    "ncanChange = readFile(basedir, dirnames[3], 'Base_change.tab')\n",
    "\n",
    "print(famNoncanonSig.head())\n"
   ]
  },
  {
   "cell_type": "code",
   "execution_count": 5,
   "metadata": {},
   "outputs": [],
   "source": [
    "# Read in annotation file \n",
    "annotname = '.\\\\inputs\\\\FastOrtho_Amel_annotated.tsv'\n",
    "annots=pd.read_csv(annotname, sep='\\t', index_col='Family.ID')\n",
    "countsname = '.\\\\inputs\\\\FastOrtho_countsTable.tsv'\n",
    "counts=pd.read_csv(countsname, sep='\\t', index_col='Family ID')\n"
   ]
  },
  {
   "cell_type": "code",
   "execution_count": 6,
   "metadata": {},
   "outputs": [
    {
     "output_type": "stream",
     "name": "stdout",
     "text": [
      "                  GeneID            name source    TranscriptID Class\nFamily.ID                                                            \nORTHOMCL38          18-w  NP_001013379.1   Amel  NM_001013361.1   NaN\nORTHOMCL4153       5-HT1  NP_001164579.1   Amel  NM_001171108.1   NaN\nORTHOMCL1395  5-HT2alpha  NP_001189389.1   Amel  NM_001202460.1   NaN\nORTHOMCL3325   5-HT2beta  NP_001191178.1   Amel  NM_001204249.1   NaN\nORTHOMCL7819       5-ht7  NP_001071289.1   Amel  NM_001077821.1   NaN\n"
     ]
    }
   ],
   "source": [
    "print(annots.head())"
   ]
  },
  {
   "cell_type": "code",
   "execution_count": 7,
   "metadata": {},
   "outputs": [
    {
     "output_type": "stream",
     "name": "stdout",
     "text": [
      "              GeneID            name source    TranscriptID       Class\nFamily.ID                                                              \nORTHOMCL7825     Wat  NP_001011562.1   Amel  NM_001011562.1  Background\nORTHOMCL8232  WRNexo  NP_001229369.1   Amel  NM_001242440.1  Background\nORTHOMCL5170     Y-f  NP_001011635.1   Amel  NM_001011635.1  Background\nORTHOMCL4018     Y-h  NP_001091687.1   Amel  NM_001098217.1  Background\nORTHOMCL5152     Y-y  NP_001091693.1   Amel  NM_001098223.1  Background\n['Background' 'NonCanon' 'Canon']\n"
     ]
    }
   ],
   "source": [
    "\"\"\" Replace NaN with 'Background' in the Class column of annots dataframe \"\"\" \n",
    "annots.Class = annots.Class.fillna('Background')\n",
    "print(annots.tail())\n",
    "print(annots.Class.unique())\n"
   ]
  },
  {
   "cell_type": "code",
   "execution_count": 10,
   "metadata": {},
   "outputs": [],
   "source": [
    "def mergeTabs(sigTable, annotsTable):\n",
    "    \"\"\" Merge the counts and annotations tables and save output file. Options commented out if wish to specify merging id's. Here these were set to index. \"\"\"\n",
    "    # sigTable.set_index(xCol, inplace=True)                   \n",
    "    # annotsTable.set_index(yCol, inplace=True)                   \n",
    "    merged = pd.merge(sigTable, annotsTable, left_index=True, right_index=True)\n",
    "    return merged\n",
    "\n",
    "def mergeTabsSave(sigTable, annotsTable, outTable):\n",
    "    \"\"\" Merge the counts and annotations tables and save output file. Options commented out if wish to specify merging id's. Here these were set to index. \"\"\"\n",
    "    # sigTable.set_index(xCol, inplace=True)                   \n",
    "    # annotsTable.set_index(yCol, inplace=True)                   \n",
    "    merged = pd.merge(sigTable, annotsTable, left_index=True, right_index=True)\n",
    "    # del merged['Significant at 0.05']\n",
    "    merged.to_csv(path+'\\\\'+ outTable, sep='\\t')                   \n",
    "    return merged"
   ]
  },
  {
   "cell_type": "code",
   "execution_count": 11,
   "metadata": {},
   "outputs": [],
   "source": [
    "backgSigTab = mergeTabs(famBackgSig, annots)\n",
    "del backgSigTab['Significant at 0.05']\n",
    "canSigTab = mergeTabs(famCanonSig, annots)\n",
    "del canSigTab['Significant at 0.05']\n",
    "noncanSigTab = mergeTabs(famNoncanonSig, annots)\n",
    "del noncanSigTab['Significant at 0.05']\n"
   ]
  },
  {
   "cell_type": "code",
   "execution_count": 12,
   "metadata": {},
   "outputs": [
    {
     "output_type": "stream",
     "name": "stdout",
     "text": [
      "            pvalue     GeneID            name source    TranscriptID     Class\nORTHOMCL14     0.0     Gat-1B  NP_001011643.1   Amel  NM_001011643.1  NonCanon\nORTHOMCL30     0.0     Dnmt1a  NP_001164522.1   Amel  NM_001171051.1  NonCanon\nORTHOMCL48     0.0       Hbg3  NP_001011608.1   Amel  NM_001011608.1  NonCanon\nORTHOMCL53     0.0  LOC409670  XP_006561279.1   Amel  XM_006561216.3  NonCanon\nORTHOMCL69     0.0  LOC725439  XP_016768850.2   Amel  XM_016913361.2  NonCanon\n"
     ]
    }
   ],
   "source": [
    "print(noncanSigTab.head())"
   ]
  },
  {
   "cell_type": "code",
   "execution_count": 14,
   "metadata": {},
   "outputs": [],
   "source": [
    "\"\"\" Now merge with the gene counts table and save the outputs \"\"\"\n",
    "\n",
    "\n",
    "backgSigTabCounts = mergeTabsSave(backgSigTab, counts, 'significantChangingBackgroundGenes_counts_Aug21.tab')\n",
    "canSigTabCounts = mergeTabsSave(canSigTab, counts, 'significantChangingCanonicalGenes_counts_Aug21.tab')\n",
    "noncanSigTabCounts = mergeTabsSave(noncanSigTab, counts, 'significantChangingNoncanonicalGenes_counts_Aug21.tab')"
   ]
  },
  {
   "cell_type": "code",
   "execution_count": 15,
   "metadata": {},
   "outputs": [
    {
     "output_type": "stream",
     "name": "stdout",
     "text": [
      "              pvalue     GeneID            name source    TranscriptID  \\\nORTHOMCL14     0.000     Gat-1B  NP_001011643.1   Amel  NM_001011643.1   \nORTHOMCL30     0.000     Dnmt1a  NP_001164522.1   Amel  NM_001171051.1   \nORTHOMCL48     0.000       Hbg3  NP_001011608.1   Amel  NM_001011608.1   \nORTHOMCL53     0.000  LOC409670  XP_006561279.1   Amel  XM_006561216.3   \nORTHOMCL69     0.000  LOC725439  XP_016768850.2   Amel  XM_016913361.2   \n...              ...        ...             ...    ...             ...   \nORTHOMCL1955   0.028  LOC410263  XP_016770706.1   Amel  XM_016915217.2   \nORTHOMCL1980   0.037  LOC409171     XP_392696.5   Amel     XM_392696.7   \nORTHOMCL2048   0.020  LOC552049  XP_006564745.1   Amel  XM_006564682.3   \nORTHOMCL2971   0.028      GstD1  NP_001171499.1   Amel  NM_001178028.1   \nORTHOMCL2975   0.002  LOC413789     XP_397228.2   Amel     XM_397228.7   \n\n                 Class  Desc  Aflo  Amel  Bimp  Bter  Ccal  Dnov  Emex  Hlab  \\\nORTHOMCL14    NonCanon   NaN     6     4    10     7     6     4     6     4   \nORTHOMCL30    NonCanon   NaN     5     3     4     6     8     3     6     3   \nORTHOMCL48    NonCanon   NaN    11     3     3     4     3     3     2     2   \nORTHOMCL53    NonCanon   NaN     1     1     4     5     5     5     8     5   \nORTHOMCL69    NonCanon   NaN     1     1     0     5     5     4     7     7   \n...                ...   ...   ...   ...   ...   ...   ...   ...   ...   ...   \nORTHOMCL1955  NonCanon   NaN     1     1     1     4     1     1     1     1   \nORTHOMCL1980  NonCanon   NaN     1     1     1     1     4     1     1     0   \nORTHOMCL2048  NonCanon   NaN     1     1     1     1     1     1     1     5   \nORTHOMCL2971  NonCanon   NaN     0     1     1     1     1     3     2     1   \nORTHOMCL2975  NonCanon   NaN     0     1     1     1     1     1     1     1   \n\n              Lalb  Mqua  Mrot  \nORTHOMCL14       4     4    11  \nORTHOMCL30       3     3     4  \nORTHOMCL48       2     7     2  \nORTHOMCL53       1     1     5  \nORTHOMCL69       1     1     6  \n...            ...   ...   ...  \nORTHOMCL1955     1     1     1  \nORTHOMCL1980     1     2     1  \nORTHOMCL2048     1     0     1  \nORTHOMCL2971     1     1     1  \nORTHOMCL2975     1     0     5  \n\n[135 rows x 18 columns]\n"
     ]
    }
   ],
   "source": [
    "print(noncanSigTabCounts)"
   ]
  },
  {
   "cell_type": "code",
   "execution_count": 16,
   "metadata": {},
   "outputs": [],
   "source": [
    "\"\"\" Now merge with the gene count changes table and save the outputs \"\"\"\n",
    "backgSigTabChanges = mergeTabsSave(backgSigTab, backgChange, 'significantChangingBackgroundGenes_changes_Aug21.tab')\n",
    "canSigTabChanges = mergeTabsSave(canSigTab, canChange, 'significantChangingCanonicalGenes_changes_Aug21.tab')\n",
    "noncanSigTabChages = mergeTabsSave(noncanSigTab, ncanChange, 'significantChangingNoncanonicalGenes_changes_Aug21.tab')"
   ]
  },
  {
   "cell_type": "code",
   "execution_count": 17,
   "metadata": {},
   "outputs": [
    {
     "output_type": "stream",
     "name": "stdout",
     "text": [
      "              pvalue     GeneID            name source    TranscriptID  \\\nORTHOMCL14     0.000     Gat-1B  NP_001011643.1   Amel  NM_001011643.1   \nORTHOMCL30     0.000     Dnmt1a  NP_001164522.1   Amel  NM_001171051.1   \nORTHOMCL48     0.000       Hbg3  NP_001011608.1   Amel  NM_001011608.1   \nORTHOMCL53     0.000  LOC409670  XP_006561279.1   Amel  XM_006561216.3   \nORTHOMCL69     0.000  LOC725439  XP_016768850.2   Amel  XM_016913361.2   \n...              ...        ...             ...    ...             ...   \nORTHOMCL1955   0.028  LOC410263  XP_016770706.1   Amel  XM_016915217.2   \nORTHOMCL1980   0.037  LOC409171     XP_392696.5   Amel     XM_392696.7   \nORTHOMCL2048   0.020  LOC552049  XP_006564745.1   Amel  XM_006564682.3   \nORTHOMCL2971   0.028      GstD1  NP_001171499.1   Amel  NM_001178028.1   \nORTHOMCL2975   0.002  LOC413789     XP_397228.2   Amel     XM_397228.7   \n\n                 Class  Bimp<0>  Bter<1>  Mqua<2>  <3>  ...  <10>  Ccal<11>  \\\nORTHOMCL14    NonCanon        3        0       -1    2  ...     0         1   \nORTHOMCL30    NonCanon        0        2       -1    0  ...     0         4   \nORTHOMCL48    NonCanon       -1        0        3    0  ...     0         0   \nORTHOMCL53    NonCanon        0        1       -3    0  ...     0         0   \nORTHOMCL69    NonCanon       -2        3       -1    0  ...    -1         0   \n...                ...      ...      ...      ...  ...  ...   ...       ...   \nORTHOMCL1955  NonCanon        0        3        0    0  ...     0         0   \nORTHOMCL1980  NonCanon        0        0        1    0  ...     0         3   \nORTHOMCL2048  NonCanon        0        0       -1    0  ...     0         0   \nORTHOMCL2971  NonCanon        0        0        0    0  ...     0         0   \nORTHOMCL2975  NonCanon        0        0       -1    0  ...     0         0   \n\n              <12>  Hlab<13>  Dnov<14>  Lalb<15>  Mrot<16>  <17>  <18>  <19>  \nORTHOMCL14       0        -1         0         0         6     0    -1     0  \nORTHOMCL30       0        -1         0         0         0     0    -1     0  \nORTHOMCL48       0        -1         0        -1        -1     0     0     0  \nORTHOMCL53       0         0         0        -4         0     0     0     0  \nORTHOMCL69       0         2         0        -3         1     0    -1     0  \n...            ...       ...       ...       ...       ...   ...   ...   ...  \nORTHOMCL1955     0         0         0         0         0     0     0     0  \nORTHOMCL1980     0        -1         0         0         0     0     0     0  \nORTHOMCL2048     0         4         0         0         0     0     0     0  \nORTHOMCL2971     0         0         2         0         0     0     0     0  \nORTHOMCL2975     0         0         0         0         4     0     0     0  \n\n[135 rows x 26 columns]\n"
     ]
    }
   ],
   "source": [
    "print(noncanSigTabChages)"
   ]
  }
 ]
}